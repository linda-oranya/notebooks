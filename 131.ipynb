{
  "nbformat": 4,
  "nbformat_minor": 0,
  "metadata": {
    "kernelspec": {
      "display_name": "Python 3",
      "language": "python",
      "name": "python3"
    },
    "language_info": {
      "codemirror_mode": {
        "name": "ipython",
        "version": 3
      },
      "file_extension": ".py",
      "mimetype": "text/x-python",
      "name": "python",
      "nbconvert_exporter": "python",
      "pygments_lexer": "ipython3",
      "version": "3.8.5"
    },
    "colab": {
      "name": "131.ipynb",
      "provenance": []
    }
  },
  "cells": [
    {
      "cell_type": "markdown",
      "metadata": {
        "id": "r8BPbISL2Fdq"
      },
      "source": [
        "# Module 1: Data Science Fundamentals\n",
        "## Sprint 3: Intro to Modeling\n",
        "## Subproject 1: Linear Algebra Refresher"
      ]
    },
    {
      "cell_type": "markdown",
      "metadata": {
        "id": "8WeDFtW02Fd6"
      },
      "source": [
        "Welcome to the final sprint of the Data Science Fundamentals module! We've done EDA, we've learned to verify our hypotheses of change by testing for significance in the change. There's one more skill set every data scientist should have - modeling. Modeling comes in many flavors - statistical modeling, machine learning. \n",
        "\n",
        "We will to explore the fundamental idea that **data can be represented in a compressed way - with a model**. You can imagine the model as an approximation of a dataset. Using models not only allows us, humans, to understand data better, but also make predictions about unseen data (we'll explore the concept of automatically learning relationships in the data)."
      ]
    },
    {
      "cell_type": "markdown",
      "metadata": {
        "id": "bwa3DrSE2Fd6"
      },
      "source": [
        "## Learning outcomes\n",
        "\n",
        "- Basics of linear algebra: vector operations, matrix operations.\n",
        "- Intermediate NumPy proficiency: broadcasting, vectorization, higher-level APIs."
      ]
    },
    {
      "cell_type": "markdown",
      "metadata": {
        "id": "SgLMfcZk2Fd7"
      },
      "source": [
        "## Linear Algebra Refresher"
      ]
    },
    {
      "cell_type": "markdown",
      "metadata": {
        "id": "8vosKv562Fd7"
      },
      "source": [
        "Go through all videos and exercises at [KhanAcademy's linear algebra module](https://www.khanacademy.org/math/linear-algebra). After the course, you should have refreshed your knowledge of linear algebra basics - vectors, matrices, their operations, inner product."
      ]
    },
    {
      "cell_type": "markdown",
      "metadata": {
        "id": "Y4dsHy2I2Fd7"
      },
      "source": [
        "## Advanced NumPy"
      ]
    },
    {
      "cell_type": "markdown",
      "metadata": {
        "id": "0_e8fwaM2Fd8"
      },
      "source": [
        "We've had a chance to try out some NumPy in Sprint 1. We've barely scratched the surface - there's so much more you should know about NumPy APIs as a data scientist, which we'll focus on throughout this subproject. This subproject will mostly consist of exercises."
      ]
    },
    {
      "cell_type": "markdown",
      "metadata": {
        "id": "GbtFgTtd2Fd8"
      },
      "source": [
        "### Aggregations"
      ]
    },
    {
      "cell_type": "markdown",
      "metadata": {
        "id": "z98Z2Mea2Fd8"
      },
      "source": [
        "By this point, you should be familiar with Pandas aggregation techniques. Often, you need to crunch big data with pure NumPy (after all, Pandas Series are just NumPy arrays under the hood), thus it's worth being familiar with NumPy data aggregation techniques - sums, statistical parameter calculations (mean, median, quantiles, percentiles)."
      ]
    },
    {
      "cell_type": "markdown",
      "metadata": {
        "id": "F0J6pBpQ2Fd8"
      },
      "source": [
        "Go through [this](https://jakevdp.github.io/PythonDataScienceHandbook/02.04-computation-on-arrays-aggregates.html) tutorial on NumPy aggregation APIs. By the end of this tutorial, you should be able to apply basic NumPy aggregation techniques, when needed."
      ]
    },
    {
      "cell_type": "markdown",
      "metadata": {
        "id": "g5BShup52Fd9"
      },
      "source": [
        "### Broadcasting and vectorization"
      ]
    },
    {
      "cell_type": "markdown",
      "metadata": {
        "id": "bj07k_Hl2Fd9"
      },
      "source": [
        "Get familiar with the concept of [broadcasting](https://cs231n.github.io/python-numpy-tutorial/#broadcasting). It allows NumPy to work different shape arrays.\n",
        "\n",
        "Afterwards, get used to the concept of [vectorization](https://realpython.com/numpy-array-programming/#what-is-vectorization). This technique allows to run loop-based algorithms several times faster."
      ]
    },
    {
      "cell_type": "markdown",
      "metadata": {
        "id": "5UXXqQyL2Fd9"
      },
      "source": [
        "### Exercises"
      ]
    },
    {
      "cell_type": "markdown",
      "metadata": {
        "id": "Qmn8MX0j2Fd9"
      },
      "source": [
        "Implement exercises [26](https://github.com/rougier/numpy-100/blob/master/100_Numpy_exercises_with_hints.md#26-what-is-the-output-of-the-following-script-), [13](https://github.com/rougier/numpy-100/blob/master/100_Numpy_exercises_with_hints.md#13-create-a-10x10-array-with-random-values-and-find-the-minimum-and-maximum-values-) and [45](https://github.com/rougier/numpy-100/blob/master/100_Numpy_exercises_with_hints.md#45-create-random-vector-of-size-10-and-replace-the-maximum-value-by-0-). Check the solutions [here](https://github.com/rougier/numpy-100/blob/master/100_Numpy_exercises_with_hints_with_solutions.md). You can implement them in this notebook."
      ]
    },
    {
      "cell_type": "markdown",
      "metadata": {
        "id": "Hfr57M7k2Fd-"
      },
      "source": [
        "For the end of this subproject, we invite you to solve some more NumPy exercises, this time more advanced. From the document [here](https://github.com/rougier/numpy-100/blob/master/100_Numpy_exercises_with_hints.md), choose 2 exercises of each difficulty level 3, and solve them. Afterwards, verify your solution using the answer sheet [here](https://github.com/rougier/numpy-100/blob/master/100_Numpy_exercises_with_hints_with_solutions.md)."
      ]
    },
    {
      "cell_type": "code",
      "metadata": {
        "id": "TaILYgTR2IEC"
      },
      "source": [
        "import pandas as pd\n",
        "import numpy as np\n",
        "from numpy import *\n",
        "import matplotlib.pyplot as plt\n",
        "import seaborn as sns"
      ],
      "execution_count": 1,
      "outputs": []
    },
    {
      "cell_type": "code",
      "metadata": {
        "id": "Va6MuZRY2T6E",
        "outputId": "b71d5296-7a8c-42af-a6d2-93705c40e0e9",
        "colab": {
          "base_uri": "https://localhost:8080/"
        }
      },
      "source": [
        "print(sum(range(5),-1))\n",
        "\n",
        "summed = np.sum(range(5),-1)\n",
        "print(summed)"
      ],
      "execution_count": 17,
      "outputs": [
        {
          "output_type": "stream",
          "text": [
            "10\n",
            "10\n"
          ],
          "name": "stdout"
        }
      ]
    },
    {
      "cell_type": "code",
      "metadata": {
        "id": "W2dZVHf649gp",
        "outputId": "bae2ef99-067d-47d0-e7ee-157dd0299753",
        "colab": {
          "base_uri": "https://localhost:8080/"
        }
      },
      "source": [
        "data = np.random.random((10,10))\n",
        "x_min, x_max = data.min(), data.max()\n",
        "print(x_min, x_max)"
      ],
      "execution_count": 19,
      "outputs": [
        {
          "output_type": "stream",
          "text": [
            "6.939569977626459e-05 0.9994056546964261\n"
          ],
          "name": "stdout"
        }
      ]
    },
    {
      "cell_type": "code",
      "metadata": {
        "id": "0MmDG7Pr9DRP",
        "outputId": "08804831-dc93-425a-8052-5b950488cedc",
        "colab": {
          "base_uri": "https://localhost:8080/"
        }
      },
      "source": [
        "Z = np.random.random(10)\n",
        "Z[Z.argmax()] = 0\n",
        "print(Z)"
      ],
      "execution_count": 20,
      "outputs": [
        {
          "output_type": "stream",
          "text": [
            "[0.45080914 0.09051546 0.03520232 0.59884637 0.28485857 0.\n",
            " 0.87257375 0.3146741  0.2769337  0.30825466]\n"
          ],
          "name": "stdout"
        }
      ]
    },
    {
      "cell_type": "markdown",
      "metadata": {
        "id": "GhvGqAZN2Fd-"
      },
      "source": [
        "-----"
      ]
    },
    {
      "cell_type": "markdown",
      "metadata": {
        "id": "mCM9RL112Fd-"
      },
      "source": [
        "## Summary"
      ]
    },
    {
      "cell_type": "markdown",
      "metadata": {
        "id": "Hqe8CPak2Fd-"
      },
      "source": [
        "Linear algebra basics will be fundamental for the upcoming subprojects of this sprint. You should be comfortable with vector and matrix operations by now, as well as be able to employ De facto the best linear algebra framework for Python NumPy. Be aware that although NumPy is usually much faster than Python, vectorization knowledge is crucial to make it blazing fast."
      ]
    },
    {
      "cell_type": "code",
      "metadata": {
        "id": "ehN0mCl72Fd-"
      },
      "source": [
        ""
      ],
      "execution_count": null,
      "outputs": []
    }
  ]
}