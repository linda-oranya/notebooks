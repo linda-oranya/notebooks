{
  "nbformat": 4,
  "nbformat_minor": 0,
  "metadata": {
    "kernelspec": {
      "display_name": "Python 3",
      "language": "python",
      "name": "python3"
    },
    "language_info": {
      "codemirror_mode": {
        "name": "ipython",
        "version": 3
      },
      "file_extension": ".py",
      "mimetype": "text/x-python",
      "name": "python",
      "nbconvert_exporter": "python",
      "pygments_lexer": "ipython3",
      "version": "3.8.3"
    },
    "colab": {
      "name": "325.ipynb",
      "provenance": []
    }
  },
  "cells": [
    {
      "cell_type": "markdown",
      "metadata": {
        "id": "oi6IpxAP2ESm"
      },
      "source": [
        "# Module 3: Machine Learning\n",
        "\n",
        "## Sprint 2: Intermediate Machine Learning\n",
        "\n",
        "## House prices regression competition, part 2"
      ]
    },
    {
      "cell_type": "markdown",
      "metadata": {
        "id": "QCgHh_IC2ESq"
      },
      "source": [
        "## Background"
      ]
    },
    {
      "cell_type": "markdown",
      "metadata": {
        "id": "kX9oorYW2ESq"
      },
      "source": [
        "---"
      ]
    },
    {
      "cell_type": "markdown",
      "metadata": {
        "id": "8EqgOf5K2ESr"
      },
      "source": [
        "Participating in Kaggle competitions is an efficient way to learn some aspects of Machine Learning. You can read solutions made public by the others, participate in the discussions to talk about solution ideas and test them by submitting them for evaluation.\n",
        "\n",
        "The metric used for evaluation can vary from competition to competition, but the idea remains the same - build a model that is as accurate as possible on the testing set. In industry, there are other factors to consider when building machine learning models - inference time, solution complexity, maintainability and so on. However, even though you only learn a subset of the required skills while participating in Kaggle competitions, it is quite a fun way to learn by doing it, so let's participate in one of the tutorial competitions again!"
      ]
    },
    {
      "cell_type": "markdown",
      "metadata": {
        "id": "QWLyAf7s2ESr"
      },
      "source": [
        "## The competition\n",
        "\n",
        "In this notebook we will again participate in the Kaggle competition below:\n",
        "\n",
        "- https://www.kaggle.com/c/house-prices-advanced-regression-techniques/overview\n",
        "\n",
        "For help, you can look at some of the notebooks by other competitors. However, try to write code by yourself, as even though you will always be able to consult external resources while working as a professional, the main thing right now is to learn by first trying it yourself."
      ]
    },
    {
      "cell_type": "markdown",
      "metadata": {
        "id": "VbbCgFHV2ESs"
      },
      "source": [
        "---"
      ]
    },
    {
      "cell_type": "markdown",
      "metadata": {
        "id": "tnRKqEwq2ESs"
      },
      "source": [
        "## Concepts to explore\n",
        "\n",
        "- Neural network regressor in scikit-learn https://scikit-learn.org/stable/modules/generated/sklearn.neural_network.MLPRegressor.html\n",
        "- Gradient boosting regressor in scikit-learn https://scikit-learn.org/stable/modules/generated/sklearn.ensemble.GradientBoostingRegressor.html\n",
        "- xgboost for regression https://www.geeksforgeeks.org/xgboost-for-regression/"
      ]
    },
    {
      "cell_type": "markdown",
      "metadata": {
        "id": "VFLDfynu2ESt"
      },
      "source": [
        "## Requirements\n",
        "\n",
        "- Build and submit a scikit-learn pipeline having neural network regressor as the model\n",
        "- Build and submit a scikit-learn pipeline having gradient boosted regressor as the model\n",
        "- Build and submit a xgboost model\n",
        "- Achieve a score better than 0.13 on the public leaderboard"
      ]
    },
    {
      "cell_type": "markdown",
      "metadata": {
        "id": "UaHq0uIPChc2"
      },
      "source": [
        "### Link to Project: https://github.com/linda-oranya/house_prediction_with_boosting_techniques_and_pipelines"
      ]
    },
    {
      "cell_type": "markdown",
      "metadata": {
        "id": "i3VZtSCQ2ESt"
      },
      "source": [
        "## Evaluation criteria\n",
        "\n",
        "- Public leaderboard score\n",
        "- How simple is the model\n",
        "- How fast is the model prediction\n",
        "- Code quality"
      ]
    },
    {
      "cell_type": "markdown",
      "metadata": {
        "id": "ZTWH-XAK2ESu"
      },
      "source": [
        "\n",
        "## Sample correction questions\n",
        "\n",
        "During a correction, you may get asked questions that test your understanding of covered topics.\n",
        "\n",
        "- How can model regularization help and what are some of the ways to use regularization?\n",
        "- What are the benefits and the risks of hyper-parameter optimization?\n",
        "- Why is it useful to crossvalidate your model using many splits? Why sometimes a single validation split is still used?\n",
        "- Why is it useful to build a pipeline that encapsulates all the preprocessing, model training and other steps?"
      ]
    }
  ]
}