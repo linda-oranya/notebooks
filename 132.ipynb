{
  "nbformat": 4,
  "nbformat_minor": 0,
  "metadata": {
    "kernelspec": {
      "display_name": "Python 3",
      "language": "python",
      "name": "python3"
    },
    "language_info": {
      "codemirror_mode": {
        "name": "ipython",
        "version": 3
      },
      "file_extension": ".py",
      "mimetype": "text/x-python",
      "name": "python",
      "nbconvert_exporter": "python",
      "pygments_lexer": "ipython3",
      "version": "3.8.5"
    },
    "colab": {
      "name": "132.ipynb",
      "provenance": []
    }
  },
  "cells": [
    {
      "cell_type": "markdown",
      "metadata": {
        "id": "NEJm3qA5qkcY"
      },
      "source": [
        "# Module 1: Data Science Fundamentals\n",
        "## Sprint 3: Intro to Modeling\n",
        "## Subproject 2: Correlation Analysis, Linear Regression"
      ]
    },
    {
      "cell_type": "markdown",
      "metadata": {
        "id": "gxciV-toqkcp"
      },
      "source": [
        "Welcome to the 2nd subproject of Sprint 3. In this subproject, for the first time we will actually use data to make predictions!"
      ]
    },
    {
      "cell_type": "markdown",
      "metadata": {
        "id": "wVIgbVRFqkcq"
      },
      "source": [
        "## Learning outcomes\n",
        "\n",
        "- Quantify correlation between dataset features.\n",
        "- Predict features from other features with Linear Regression."
      ]
    },
    {
      "cell_type": "markdown",
      "metadata": {
        "id": "LFkUXvXZqkcq"
      },
      "source": [
        "## Correlation Analysis"
      ]
    },
    {
      "cell_type": "markdown",
      "metadata": {
        "id": "EicmfH-3qkcr"
      },
      "source": [
        "Correlation analysis, at its core, allows to quantify how related features of your dataset are - if one features changes e.g. is incremented, how other one changes."
      ]
    },
    {
      "cell_type": "markdown",
      "metadata": {
        "id": "0o_UsJVeqkcr"
      },
      "source": [
        "Let's start by going through [this](https://realpython.com/numpy-scipy-pandas-correlation-python) tutorial. By the end of it, you should be able differentiate between Pearson's and Spearman's correlation coefficients, and how to calculate correlation between variables in Pandas."
      ]
    },
    {
      "cell_type": "markdown",
      "metadata": {
        "id": "hfX4T1Zgqkcr"
      },
      "source": [
        "## Linear Regression"
      ]
    },
    {
      "cell_type": "markdown",
      "metadata": {
        "id": "oqvg4lESqkcs"
      },
      "source": [
        "Linear regression is the most fundamental statistical relationship modeling algorithm. The algorithm builds a line model (often called a trendline), which allows to not only explain linear regression between some variable in the dataset X and other variable Y, but also predict unseen Y values given X!"
      ]
    },
    {
      "cell_type": "markdown",
      "metadata": {
        "id": "GL9r7qTwqkcs"
      },
      "source": [
        "Start by watching the intro to linear regression down below:"
      ]
    },
    {
      "cell_type": "code",
      "metadata": {
        "id": "AHs5iF4Hqkcs",
        "outputId": "7ee22739-9796-4787-d9be-18dc6d399f1a"
      },
      "source": [
        "from IPython.display import YouTubeVideo\n",
        "YouTubeVideo('PaFPbb66DxQ')"
      ],
      "execution_count": null,
      "outputs": [
        {
          "output_type": "execute_result",
          "data": {
            "image/jpeg": "[encoded data removed]",
            "text/html": [
              "\n",
              "        <iframe\n",
              "            width=\"400\"\n",
              "            height=\"300\"\n",
              "            src=\"https://www.youtube.com/embed/PaFPbb66DxQ\"\n",
              "            frameborder=\"0\"\n",
              "            allowfullscreen\n",
              "        ></iframe>\n",
              "        "
            ],
            "text/plain": [
              "<IPython.lib.display.YouTubeVideo at 0x7f98cd6182d0>"
            ]
          },
          "metadata": {
            "tags": []
          },
          "execution_count": 1
        }
      ]
    },
    {
      "cell_type": "markdown",
      "metadata": {
        "id": "QzIAjNLsqkct"
      },
      "source": [
        "After watching the video above, enroll at [Intro to Machine Learning](https://www.udacity.com/course/intro-to-machine-learning--ud120) (on Udacity) free course. Next, watch a module on linear regression and complete all the quizes, starting from [Lesson 10](https://classroom.udacity.com/courses/ud120/lessons/2301748537/concepts/24828185350923) to the very end of the module. Although you might hear unfamiliar terms e.g. supervised learning, don't think about them just now."
      ]
    },
    {
      "cell_type": "markdown",
      "metadata": {
        "id": "2tG-ontVqkcu"
      },
      "source": [
        "By the end of this section, you should know what linear regression is used for, and how to perform it using Scikit-learn."
      ]
    },
    {
      "cell_type": "markdown",
      "metadata": {
        "id": "ZOnaFGHMqkcu"
      },
      "source": [
        "### Key takeaways:"
      ]
    },
    {
      "cell_type": "markdown",
      "metadata": {
        "id": "ArAVFGyWqkcu"
      },
      "source": [
        "* We use linear regression as a tool to model a trendline (like in Excel).\n",
        "* Regression line explains the numerical relationship between X variable (independent) and Y (dependent).\n",
        "* Relationship is a weighted sum of X effect on Y. Weight describes how much Y changes when we change X by 1.\n",
        "* X can be multiple variables, each with its weight."
      ]
    },
    {
      "cell_type": "markdown",
      "metadata": {
        "id": "3Xp84dToqkcu"
      },
      "source": [
        "## Exercise"
      ]
    },
    {
      "cell_type": "markdown",
      "metadata": {
        "id": "m8kHPn2Dqkcv"
      },
      "source": [
        "### Predicting Bicycle Traffic"
      ]
    },
    {
      "cell_type": "markdown",
      "metadata": {
        "id": "Zk_dfNhwqkcv"
      },
      "source": [
        "<div><img src=\"https://upload.wikimedia.org/wikipedia/commons/thumb/4/41/Left_side_of_Flying_Pigeon.jpg/2560px-Left_side_of_Flying_Pigeon.jpg\" style=\"height: 350px;\"/></div>"
      ]
    },
    {
      "cell_type": "markdown",
      "metadata": {
        "id": "ej5bElTCqkcv"
      },
      "source": [
        "We'll follow an example from [Data Science Handbook](https://jakevdp.github.io/PythonDataScienceHandbook/05.06-linear-regression.html#Example:-Predicting-Bicycle-Traffic).\n",
        "\n",
        "Complete the task yourself and verify afterwards. Don't look at the Jake's solution until you have your own (unless you get stuck), there's no fun in that :)."
      ]
    },
    {
      "cell_type": "markdown",
      "metadata": {
        "id": "e5S1QCIbqkcv"
      },
      "source": [
        "Objective:\n",
        "\n",
        "* Predict bike traffic for each day;\n",
        "* Explain which features affect the number of cyclists most;\n",
        "\n",
        "Tips:\n",
        "* Use weather dataset for feature engineering.\n",
        "* Engineer additional features such as: weeekday, daylight_hrs, is_holiday, temp_celcius, is_dry_day, explain why."
      ]
    },
    {
      "cell_type": "markdown",
      "metadata": {
        "id": "HZK5oqzfqkcw"
      },
      "source": [
        "To make things slightly easier, we've downloaded daily bicycle traffic, the daily weather data in Seattle and holiday data, and joined everything."
      ]
    },
    {
      "cell_type": "markdown",
      "metadata": {
        "id": "AABsjUeNqkcw"
      },
      "source": [
        "In case the weather dataset column names seem confusing, check-out [this resource](https://www.ncdc.noaa.gov/cdo-web/datasets/GHCND/stations/GHCND:USW00024233/detail), which contains detailed descriptions of each column of the weather dataset."
      ]
    },
    {
      "cell_type": "code",
      "metadata": {
        "id": "4VYjcLZ5qkcw"
      },
      "source": [
        "import pandas as pd\n",
        "from pandas.tseries.holiday import USFederalHolidayCalendar\n",
        "\n",
        "counts = pd.read_csv('https://data.seattle.gov/api/views/65db-xm6k/rows.csv', index_col='Date', parse_dates=True)\n",
        "weather = pd.read_csv('https://raw.githubusercontent.com/jakevdp/PythonDataScienceHandbook/master/notebooks/data/BicycleWeather.csv',  index_col='DATE', parse_dates=True)\n",
        "\n",
        "daily = counts.resample(\"d\").sum()\n",
        "\n",
        "cal = USFederalHolidayCalendar()\n",
        "holidays = cal.holidays('2012', '2016')\n",
        "daily = daily.join(pd.Series(1, index=holidays, name='holiday'))\n",
        "daily['holiday'].fillna(0, inplace=True)"
      ],
      "execution_count": 16,
      "outputs": []
    },
    {
      "cell_type": "code",
      "metadata": {
        "id": "bS22xQrZ3mfb"
      },
      "source": [
        "days = ['Mon', 'Tue', 'Wed', 'Thu', 'Fri', 'Sat', 'Sun']\n",
        "for i in range(7):\n",
        "    daily[days[i]] = (daily.index.dayofweek == i).astype(float)"
      ],
      "execution_count": 18,
      "outputs": []
    },
    {
      "cell_type": "code",
      "metadata": {
        "id": "Udcz5NuH4heE",
        "outputId": "1c3cd079-35a1-4ce7-9899-08365ccc1629",
        "colab": {
          "base_uri": "https://localhost:8080/",
          "height": 354
        }
      },
      "source": [
        "import numpy as np\n",
        "import matplotlib.pyplot as plt\n",
        "\n",
        "def hours_of_daylight(date, axis=23.44, latitude=47.61):\n",
        "    \"\"\"Compute the hours of daylight for the given date\"\"\"\n",
        "    days = (date - pd.datetime(2000, 12, 21)).days\n",
        "    m = (1. - np.tan(np.radians(latitude))\n",
        "         * np.tan(np.radians(axis) * np.cos(days * 2 * np.pi / 365.25)))\n",
        "    return 24. * np.degrees(np.arccos(1 - np.clip(m, 0, 2))) / 180.\n",
        "\n",
        "daily['daylight_hrs'] = list(map(hours_of_daylight, daily.index))\n",
        "daily[['daylight_hrs']].plot()\n",
        "plt.ylim(8, 17)"
      ],
      "execution_count": 23,
      "outputs": [
        {
          "output_type": "stream",
          "text": [
            "/usr/local/lib/python3.7/dist-packages/ipykernel_launcher.py:6: FutureWarning: The pandas.datetime class is deprecated and will be removed from pandas in a future version. Import from datetime module instead.\n",
            "  \n"
          ],
          "name": "stderr"
        },
        {
          "output_type": "execute_result",
          "data": {
            "text/plain": [
              "(8.0, 17.0)"
            ]
          },
          "metadata": {
            "tags": []
          },
          "execution_count": 23
        },
        {
          "output_type": "display_data",
          "data": {
            "image/png": "[encoded data removed]",
            "text/plain": [
              "<Figure size 432x288 with 1 Axes>"
            ]
          },
          "metadata": {
            "tags": [],
            "needs_background": "light"
          }
        }
      ]
    },
    {
      "cell_type": "code",
      "metadata": {
        "id": "7rTiaiwy-UZS"
      },
      "source": [
        "# temperatures are in 1/10 deg C; convert to C\n",
        "weather['TMIN'] /= 10\n",
        "weather['TMAX'] /= 10\n",
        "weather['Temp (C)'] = 0.5 * (weather['TMIN'] + weather['TMAX'])\n",
        "\n",
        "# precip is in 1/10 mm; convert to inches\n",
        "weather['PRCP'] /= 254\n",
        "weather['dry day'] = (weather['PRCP'] == 0).astype(int)\n",
        "\n",
        "daily = daily.join(weather[['PRCP', 'Temp (C)', 'dry day']])"
      ],
      "execution_count": 24,
      "outputs": []
    },
    {
      "cell_type": "code",
      "metadata": {
        "id": "5ktcXI3--a8A"
      },
      "source": [
        "daily['annual'] = (daily.index - daily.index[0]).days / 365."
      ],
      "execution_count": 25,
      "outputs": []
    },
    {
      "cell_type": "code",
      "metadata": {
        "id": "V7tUmKdl-i_N",
        "outputId": "1417cb6a-2a50-4428-c358-3b7213d723ad",
        "colab": {
          "base_uri": "https://localhost:8080/",
          "height": 337
        }
      },
      "source": [
        "daily.head()"
      ],
      "execution_count": 28,
      "outputs": [
        {
          "output_type": "execute_result",
          "data": {
            "text/html": [
              "<div>\n",
              "<style scoped>\n",
              "    .dataframe tbody tr th:only-of-type {\n",
              "        vertical-align: middle;\n",
              "    }\n",
              "\n",
              "    .dataframe tbody tr th {\n",
              "        vertical-align: top;\n",
              "    }\n",
              "\n",
              "    .dataframe thead th {\n",
              "        text-align: right;\n",
              "    }\n",
              "</style>\n",
              "<table border=\"1\" class=\"dataframe\">\n",
              "  <thead>\n",
              "    <tr style=\"text-align: right;\">\n",
              "      <th></th>\n",
              "      <th>Fremont Bridge Total</th>\n",
              "      <th>Fremont Bridge East Sidewalk</th>\n",
              "      <th>Fremont Bridge West Sidewalk</th>\n",
              "      <th>holiday</th>\n",
              "      <th>Mon</th>\n",
              "      <th>Tue</th>\n",
              "      <th>Wed</th>\n",
              "      <th>Thu</th>\n",
              "      <th>Fri</th>\n",
              "      <th>Sat</th>\n",
              "      <th>Sun</th>\n",
              "      <th>daylight_hrs</th>\n",
              "      <th>PRCP</th>\n",
              "      <th>Temp (C)</th>\n",
              "      <th>dry day</th>\n",
              "      <th>annual</th>\n",
              "    </tr>\n",
              "    <tr>\n",
              "      <th>Date</th>\n",
              "      <th></th>\n",
              "      <th></th>\n",
              "      <th></th>\n",
              "      <th></th>\n",
              "      <th></th>\n",
              "      <th></th>\n",
              "      <th></th>\n",
              "      <th></th>\n",
              "      <th></th>\n",
              "      <th></th>\n",
              "      <th></th>\n",
              "      <th></th>\n",
              "      <th></th>\n",
              "      <th></th>\n",
              "      <th></th>\n",
              "      <th></th>\n",
              "    </tr>\n",
              "  </thead>\n",
              "  <tbody>\n",
              "    <tr>\n",
              "      <th>2012-10-03</th>\n",
              "      <td>7042.0</td>\n",
              "      <td>3520.0</td>\n",
              "      <td>3522.0</td>\n",
              "      <td>0.0</td>\n",
              "      <td>0.0</td>\n",
              "      <td>0.0</td>\n",
              "      <td>1.0</td>\n",
              "      <td>0.0</td>\n",
              "      <td>0.0</td>\n",
              "      <td>0.0</td>\n",
              "      <td>0.0</td>\n",
              "      <td>11.277359</td>\n",
              "      <td>0.0</td>\n",
              "      <td>13.35</td>\n",
              "      <td>1.0</td>\n",
              "      <td>0.000000</td>\n",
              "    </tr>\n",
              "    <tr>\n",
              "      <th>2012-10-04</th>\n",
              "      <td>6950.0</td>\n",
              "      <td>3416.0</td>\n",
              "      <td>3534.0</td>\n",
              "      <td>0.0</td>\n",
              "      <td>0.0</td>\n",
              "      <td>0.0</td>\n",
              "      <td>0.0</td>\n",
              "      <td>1.0</td>\n",
              "      <td>0.0</td>\n",
              "      <td>0.0</td>\n",
              "      <td>0.0</td>\n",
              "      <td>11.219142</td>\n",
              "      <td>0.0</td>\n",
              "      <td>13.60</td>\n",
              "      <td>1.0</td>\n",
              "      <td>0.002740</td>\n",
              "    </tr>\n",
              "    <tr>\n",
              "      <th>2012-10-05</th>\n",
              "      <td>6296.0</td>\n",
              "      <td>3116.0</td>\n",
              "      <td>3180.0</td>\n",
              "      <td>0.0</td>\n",
              "      <td>0.0</td>\n",
              "      <td>0.0</td>\n",
              "      <td>0.0</td>\n",
              "      <td>0.0</td>\n",
              "      <td>1.0</td>\n",
              "      <td>0.0</td>\n",
              "      <td>0.0</td>\n",
              "      <td>11.161038</td>\n",
              "      <td>0.0</td>\n",
              "      <td>15.30</td>\n",
              "      <td>1.0</td>\n",
              "      <td>0.005479</td>\n",
              "    </tr>\n",
              "    <tr>\n",
              "      <th>2012-10-06</th>\n",
              "      <td>4012.0</td>\n",
              "      <td>2160.0</td>\n",
              "      <td>1852.0</td>\n",
              "      <td>0.0</td>\n",
              "      <td>0.0</td>\n",
              "      <td>0.0</td>\n",
              "      <td>0.0</td>\n",
              "      <td>0.0</td>\n",
              "      <td>0.0</td>\n",
              "      <td>1.0</td>\n",
              "      <td>0.0</td>\n",
              "      <td>11.103056</td>\n",
              "      <td>0.0</td>\n",
              "      <td>15.85</td>\n",
              "      <td>1.0</td>\n",
              "      <td>0.008219</td>\n",
              "    </tr>\n",
              "    <tr>\n",
              "      <th>2012-10-07</th>\n",
              "      <td>4284.0</td>\n",
              "      <td>2382.0</td>\n",
              "      <td>1902.0</td>\n",
              "      <td>0.0</td>\n",
              "      <td>0.0</td>\n",
              "      <td>0.0</td>\n",
              "      <td>0.0</td>\n",
              "      <td>0.0</td>\n",
              "      <td>0.0</td>\n",
              "      <td>0.0</td>\n",
              "      <td>1.0</td>\n",
              "      <td>11.045208</td>\n",
              "      <td>0.0</td>\n",
              "      <td>15.85</td>\n",
              "      <td>1.0</td>\n",
              "      <td>0.010959</td>\n",
              "    </tr>\n",
              "  </tbody>\n",
              "</table>\n",
              "</div>"
            ],
            "text/plain": [
              "            Fremont Bridge Total  ...    annual\n",
              "Date                              ...          \n",
              "2012-10-03                7042.0  ...  0.000000\n",
              "2012-10-04                6950.0  ...  0.002740\n",
              "2012-10-05                6296.0  ...  0.005479\n",
              "2012-10-06                4012.0  ...  0.008219\n",
              "2012-10-07                4284.0  ...  0.010959\n",
              "\n",
              "[5 rows x 16 columns]"
            ]
          },
          "metadata": {
            "tags": []
          },
          "execution_count": 28
        }
      ]
    },
    {
      "cell_type": "code",
      "metadata": {
        "id": "8zltZNN6-fxd"
      },
      "source": [
        "# Drop any rows with null values\n",
        "from sklearn.linear_model import LinearRegression\n",
        "daily.dropna(axis=0, how='any', inplace=True)\n",
        "\n",
        "column_names = ['Mon', 'Tue', 'Wed', 'Thu', 'Fri', 'Sat', 'Sun', 'holiday',\n",
        "                'daylight_hrs', 'PRCP', 'dry day', 'Temp (C)', 'annual']\n",
        "X = daily[column_names]\n",
        "y = daily['Fremont Bridge Total']\n",
        "\n",
        "model = LinearRegression(fit_intercept=False)\n",
        "model.fit(X, y)\n",
        "daily['predicted'] = model.predict(X)"
      ],
      "execution_count": 30,
      "outputs": []
    },
    {
      "cell_type": "markdown",
      "metadata": {
        "id": "YH3H4371qkcx"
      },
      "source": [
        "Tip - peek into the data. Engineer enough features for `weather` dataframe you might deem useful to predict bicycle traffic. Afterwards, join the datasets and perform regression."
      ]
    },
    {
      "cell_type": "markdown",
      "metadata": {
        "id": "Gi3JginDqkcx"
      },
      "source": [
        "-----"
      ]
    },
    {
      "cell_type": "markdown",
      "metadata": {
        "id": "T0Kp7RJTqkcx"
      },
      "source": [
        "## Summary\n",
        "\n",
        "In this subproject, we have studied the most popular data modeling approach - linear regression. Linear models hardly overfit, and they are interpretable, thus often preferred as baselines when modeling the data."
      ]
    },
    {
      "cell_type": "code",
      "metadata": {
        "id": "wD98smmKqkcx"
      },
      "source": [
        ""
      ],
      "execution_count": null,
      "outputs": []
    }
  ]
}