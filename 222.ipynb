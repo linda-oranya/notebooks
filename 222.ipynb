{
  "nbformat": 4,
  "nbformat_minor": 0,
  "metadata": {
    "kernelspec": {
      "display_name": "Python 3",
      "language": "python",
      "name": "python3"
    },
    "language_info": {
      "codemirror_mode": {
        "name": "ipython",
        "version": 3
      },
      "file_extension": ".py",
      "mimetype": "text/x-python",
      "name": "python",
      "nbconvert_exporter": "python",
      "pygments_lexer": "ipython3",
      "version": "3.7.6"
    },
    "colab": {
      "name": "222.ipynb",
      "provenance": []
    }
  },
  "cells": [
    {
      "cell_type": "markdown",
      "metadata": {
        "id": "Iw8sMgf4bB0z"
      },
      "source": [
        "# Module 2: Data Engineering\n",
        "## Sprint 2: SQL and Data Scraping\n",
        "## Subproject 2: More hands on SQL"
      ]
    },
    {
      "cell_type": "markdown",
      "metadata": {
        "id": "i5OsmjXPbB02"
      },
      "source": [
        "In the last lesson you got familiar with SQL. You created tables and wrote basic queries. During the lesson we will take a closer look into technical part of SQL. You will learn how to create and host your own database. You will know how to use Python to connect to database and send SQL queries to retrieve information. We will also talk about strong and weak points of SQL databases."
      ]
    },
    {
      "cell_type": "markdown",
      "metadata": {
        "id": "mNrIrIexbB02"
      },
      "source": [
        "## Learning outcomes\n",
        "- You will know how to use PostgreSQL databases\n",
        "- You will be able to set up external databases hosted by Heroku\n",
        "- You will be able to query SQL databases using Python"
      ]
    },
    {
      "cell_type": "markdown",
      "metadata": {
        "id": "gxnpjPB9bB03"
      },
      "source": [
        "---"
      ]
    },
    {
      "cell_type": "markdown",
      "metadata": {
        "id": "B-I9MTajbB03"
      },
      "source": [
        "## Relational databases in depth\n",
        "In the last lesson you went through a crash course of SQL. In this lesson you have an opportunity to take a deeper look into this subject by watching [Advanced SQL course | SQL tutorial advanced](https://www.youtube.com/watch?v=2Fn0WAyZV0E&ab_channel=Geek%27sLesson) video. You will not be required to prove your newly gained knowledge in the exercises but the knowledge will open more opportunities for you as a data engineer. As it is quite impossible to become databases expert in only two days, you will have to learn about certain parts of this topic yourself. It can be a side project or an internship in a company that provide you an opportunities to fully showcase your SQL skills as the main strong points of relational databases are only revealed at scale. Below is a list of topics that you should learn and provided learning material sources:\n",
        "* [Functions](https://www.studytonight.com/dbms/sql-function.php)\n",
        "* [Stored Procedures](https://www.w3schools.com/sql/sql_stored_procedures.asp)\n",
        "* [Hierarchical Queries](https://docs.oracle.com/cd/B19306_01/server.102/b14200/queries003.htm)\n",
        "* [Dynamic SQL](https://docs.oracle.com/cd/A87860_01/doc/appdev.817/a76939/adg09dyn.htm)\n",
        "* [Data Modelling](https://afteracademy.com/blog/what-is-data-model-in-dbms-and-what-are-its-types): Normal Forms, 1 through 3\n",
        "* [Isolation Levels](https://www.geeksforgeeks.org/transaction-isolation-levels-dbms/) and [Transactions](https://www.geeksforgeeks.org/sql-transactions/)  "
      ]
    },
    {
      "cell_type": "markdown",
      "metadata": {
        "id": "JRf3PLsVbB04"
      },
      "source": [
        "You should visit each topic individually as you fill find tons of information that cannot be summarized into one day lesson. All of the provided topics are important and should not be ignored but as mentioned before they are advanced SQL level topics so you should not feel overwhelmed by not being able to fully understand them as the actual usage of provided resources in practice can only be applied at scale. "
      ]
    },
    {
      "cell_type": "markdown",
      "metadata": {
        "id": "vTGgKNKubB04"
      },
      "source": [
        "## PostgreSQL\n",
        "The main topic of this lesson is the creation of an actual working database. You will be working with PostgreSQL relational database. So why Postgre? In the relational database world there are many big players that you can choose from: MySQL, PostgreSQL, OracleSQL and many more. For individual use, usually differences are really minor but for companies there are many things to consider before choosing one. To better understand this topic, you need to watch [this video](https://www.youtube.com/watch?v=WzfDLqt-WIg&ab_channel=Socratica) that in TLDR format explains differences between the databases. In comparison with MySQL or MariaDB, Postgres has these strong points:\n",
        "\n",
        "* Better Data Integrity\n",
        "* Better Licensing\n",
        "* JSON Support and NoSQL\n",
        "* Sub queries work better\n",
        "\n",
        "Of course, Postgres has its own weaknesses too. So you will need to choose database case by case but for this lesson, you will work with it."
      ]
    },
    {
      "cell_type": "markdown",
      "metadata": {
        "id": "XImgQvU6bB04"
      },
      "source": [
        "### Hosting PostgreSQL database\n",
        "As you need a machine with pre-installed database software, you will need to use free tool that enables you to create and initialize your own database. You will need to register at [https://id.heroku.com/login](https://id.heroku.com/login). After, you should go and create new app: \n",
        "<div>\n",
        "<img src=\"https://i.imgur.com/qjUGLcQ.png\" width=\"400px\"/>  \n",
        "</div>\n",
        "Select Europe as the region and then give an unique name to your project:  \n",
        "<div>\n",
        "<img src=\"https://i.imgur.com/IKtNVXL.png\" width=\"400px\"/>  \n",
        "</div>\n",
        "After creation of the project you should go to `Resources` tab and  add `Heroku Postgres` add-on to your project.  \n",
        "<div>\n",
        "<img src=\"https://i.imgur.com/SoozILw.png\" width=\"400px\"/> \n",
        "</div>\n",
        "<div>\n",
        "<img src=\"https://i.imgur.com/Ssuzyfn.png\" width=\"400px\"/>  \n",
        "</div>\n",
        "<div>\n",
        "<img src=\"https://i.imgur.com/oUpOvPD.png\" width=\"400px\"/> \n",
        " </div>\n",
        " <div>\n",
        "<img src=\"https://i.imgur.com/yKo8emB.png\" width=\"400px\"/>  \n",
        "</div>\n",
        "After add-on initialization, go to its page and select `Setting` tab where you will see database's credentials:\n",
        "<div>\n",
        "<img src=\"https://i.imgur.com/rB45aho.png\" width=\"600px\"/>  \n",
        "</div>"
      ]
    },
    {
      "cell_type": "markdown",
      "metadata": {
        "id": "xwxp0u54bB05"
      },
      "source": [
        "### Using Python with PostgreSQL\n",
        "Now we are able to use hosted database using Python. First we need to install `psycopg2` to our environment:"
      ]
    },
    {
      "cell_type": "code",
      "metadata": {
        "colab": {
          "base_uri": "https://localhost:8080/"
        },
        "id": "Esjvu1ZXbB06",
        "outputId": "3c69e5d8-4ac8-4295-ead1-97d5228b2316"
      },
      "source": [
        "!pip install psycopg2"
      ],
      "execution_count": null,
      "outputs": [
        {
          "output_type": "stream",
          "text": [
            "Requirement already satisfied: psycopg2 in /usr/local/lib/python3.7/dist-packages (2.7.6.1)\n"
          ],
          "name": "stdout"
        }
      ]
    },
    {
      "cell_type": "markdown",
      "metadata": {
        "id": "l06yo6edbB08"
      },
      "source": [
        "To connect to the database we have to simply use `psycopg2` connect function and the use the initiated connection to work with the remote database. You will have to provide credentials provided by Heroku Postgres:"
      ]
    },
    {
      "cell_type": "code",
      "metadata": {
        "colab": {
          "base_uri": "https://localhost:8080/"
        },
        "id": "x4o4xt7CbB08",
        "outputId": "591b16f2-6405-4e8b-9ec4-99ec93c7c32d"
      },
      "source": [
        "import psycopg2\n",
        "\n",
        "connection = psycopg2.connect(\n",
        "    database=\"d6n25n96oqcau5\",\n",
        "    user=\"kywujunfykyruz\",\n",
        "    password=\"14feadbcd30a61adb3d688118837e4d46d6dca91d52e0c2f520b720205f92906\",\n",
        "    host=\"ec2-54-78-36-245.eu-west-1.compute.amazonaws.com\",\n",
        "    port=\"5432\"\n",
        ")\n",
        "\n",
        "connection"
      ],
      "execution_count": null,
      "outputs": [
        {
          "output_type": "execute_result",
          "data": {
            "text/plain": [
              "<connection object at 0x7fd7b642c410; dsn: 'user=kywujunfykyruz password=xxx dbname=d6n25n96oqcau5 host=ec2-54-78-36-245.eu-west-1.compute.amazonaws.com port=5432', closed: 0>"
            ]
          },
          "metadata": {
            "tags": []
          },
          "execution_count": 16
        }
      ]
    },
    {
      "cell_type": "markdown",
      "metadata": {
        "id": "cCXfWw7ybB08"
      },
      "source": [
        "Now that we have the connection let's create same `users` and `cards` tables from the last lesson. We will need to create `cursor` from the connection and then execute `SQL` commands:"
      ]
    },
    {
      "cell_type": "code",
      "metadata": {
        "id": "_8pCzLAfbB09"
      },
      "source": [
        "cur = connection.cursor()\n",
        "\n",
        "cur.execute('''\n",
        "CREATE TABLE users (\n",
        "    id serial PRIMARY KEY,\n",
        "    fullName varchar(255),\n",
        "    cardId int\n",
        ");\n",
        "''')\n",
        "\n",
        "\n",
        "cur.execute('''\n",
        "CREATE TABLE cards (\n",
        "    id serial PRIMARY KEY,\n",
        "    userId int,\n",
        "    lastUsedDate date\n",
        ");\n",
        "''')\n",
        "\n",
        "cur.execute('''\n",
        "ALTER TABLE users ADD FOREIGN KEY (cardId) REFERENCES cards(id);\n",
        "ALTER TABLE cards ADD FOREIGN KEY (userId) REFERENCES users(id);\n",
        "INSERT INTO users(fullName) VALUES('Peter Parker');\n",
        "INSERT INTO cards(userid, lastuseddate) VALUES(1, '2020-01-01');\n",
        "UPDATE users SET cardId = 1 WHERE id = 1;\n",
        "''')\n",
        "\n",
        "connection.commit()"
      ],
      "execution_count": null,
      "outputs": []
    },
    {
      "cell_type": "markdown",
      "metadata": {
        "id": "IynbEwLPbB09"
      },
      "source": [
        "You can check the data inside tables by using `execute` and `fetchall` functions:"
      ]
    },
    {
      "cell_type": "code",
      "metadata": {
        "colab": {
          "base_uri": "https://localhost:8080/"
        },
        "id": "99UubsWYbB09",
        "outputId": "35d6218b-069f-4f9e-bd1f-f68cf90c01a9"
      },
      "source": [
        "cur.execute(\"SELECT * FROM users\")\n",
        "rows = cur.fetchall()\n",
        "\n",
        "for row in rows:\n",
        "    print(f\"id: {row[0]}, fullName: {row[1]}, cardId: {row[2]}\")"
      ],
      "execution_count": null,
      "outputs": [
        {
          "output_type": "stream",
          "text": [
            "id: 1, fullName: Peter Parker, cardId: 1\n"
          ],
          "name": "stdout"
        }
      ]
    },
    {
      "cell_type": "markdown",
      "metadata": {
        "id": "B716VzwybB09"
      },
      "source": [
        "### Exercise\n",
        "Now that you know how to use `psycopg2` you should create same two tables `books` and `authors` from last lesson. You will need to insert same data and make same queries."
      ]
    },
    {
      "cell_type": "code",
      "metadata": {
        "id": "NALzczZLj9wo"
      },
      "source": [
        "cur = connection.cursor()\n",
        "cur.execute('''\n",
        "CREATE TABLE authors(\n",
        "    id serial PRIMARY KEY,\n",
        "    fullname varchar(100)\n",
        "    );\n",
        "''')\n",
        "\n",
        "cur.execute('''\n",
        "CREATE TABLE books (\n",
        "    id serial PRIMARY KEY,\n",
        "    title varchar(50),\n",
        "    authorid int,\n",
        "    releasedate DATE\n",
        ");\n",
        "''')\n",
        "\n",
        "cur.execute('''\n",
        "ALTER TABLE books ADD FOREIGN KEY (authorid) REFERENCES authors(id);\n",
        "''')\n",
        "\n",
        "cur.execute('''\n",
        "INSERT INTO authors(id,fullname) VALUES(1,'J. K. Rowling');\n",
        "INSERT INTO authors(id,fullname) VALUES(2,'Mary Shelley');\n",
        "INSERT INTO authors(id,fullname) VALUES(3,'Suzanne Collins');\n",
        "''')\n",
        "\n",
        "cur.execute('''\n",
        "INSERT INTO books(id,title,authorid,releasedate) VALUES(1,'Philosphers Stone',1,'1997-01-01');\n",
        "INSERT INTO books(id,title,authorid,releasedate) VALUES(2,'Chamber of Secrets',1,'1998-01-01');\n",
        "INSERT INTO books(id,title,authorid,releasedate) VALUES(3,'Prisoner of Azkaban',1,'1999-01-01');\n",
        "INSERT INTO books(id,title,authorid,releasedate) VALUES(4,'Globet of fire',1,'2000-01-01');\n",
        "INSERT INTO books(id,title,authorid,releasedate) VALUES(5,'Order of the Phoenix',1,'2003-01-01');\n",
        "INSERT INTO books(id,title,authorid,releasedate) VALUES(6,'Frankenstein',2,'1823-01-01');\n",
        "INSERT INTO books(id,title,authorid,releasedate) VALUES(7,'The Hunger Games',3,'2008-01-01');\n",
        "INSERT INTO books(id,title,authorid,releasedate) VALUES(8,'Catching Fire',3,'2009-01-01');\n",
        "''')\n",
        "connection.commit()"
      ],
      "execution_count": null,
      "outputs": []
    },
    {
      "cell_type": "markdown",
      "metadata": {
        "id": "vf2Cu0SYbB0-"
      },
      "source": [
        "Write Python code in a the cell above for tests below to pass."
      ]
    },
    {
      "cell_type": "code",
      "metadata": {
        "id": "cwGjKRvsbB0-"
      },
      "source": [
        "### GET LIST OF ALL AUTHORS\n",
        "cur.execute(\"SELECT * FROM authors;\")\n",
        "authors = cur.fetchall()\n",
        "\n",
        "assert len(authors) == 3\n",
        "assert authors[0][1] == \"J. K. Rowling\"\n",
        "\n",
        "### GET LIST OF ALL BOOKS\n",
        "cur.execute(\"SELECT * FROM books;\")\n",
        "books = cur.fetchall()\n",
        "\n",
        "assert len(books) == 8\n",
        "assert books[1][1] == \"Chamber of Secrets\"\n",
        "\n",
        "### GET LIST OF BOOKS WITH AUTHORS ATTACHED\n",
        "cur.execute(\"SELECT books.id, books.title, authors.fullname FROM books LEFT JOIN authors ON books.authorid = authors.id;\")\n",
        "books = cur.fetchall()\n",
        "\n",
        "assert len(books) == 8\n",
        "assert books[1][1] == \"Chamber of Secrets\"\n",
        "assert books[1][2] == \"J. K. Rowling\"\n",
        "\n",
        "### GET COUNT OF BOOKS WRITTEN BY AUTHOR\n",
        "cur.execute(\"SELECT authors.fullname as author, COUNT(authors.fullname) as books_count FROM books LEFT JOIN authors ON books.authorid = authors.id GROUP BY authors.fullname;\")\n",
        "books_count = cur.fetchall()\n",
        "\n",
        "assert len(books_count) == 3\n",
        "assert books_count[1][0] == \"J. K. Rowling\"\n",
        "assert books_count[1][1] == 5"
      ],
      "execution_count": null,
      "outputs": []
    },
    {
      "cell_type": "markdown",
      "metadata": {
        "id": "RcCgyFcAbB0-"
      },
      "source": [
        "## SQL - when it does not work?\n",
        "For the last two days you were learning about relational databases and SQL. You should know that SQL works really well when you have structured data and need to perform multiple data collection manipulations. Parts where SQL lacks are search and optimized document storage. For these specific cases Not Only SQL is used. There are many different types of NoSQL databases. If every SQL database (MySQL, Oracle SQL, PostgreSQL) are familiar, NoSQL world is more diverse and every database has its own specific use cases. Let's talk about most popular ones and where and why they are used. But before that you should watch [more general overview](https://www.youtube.com/watch?v=ruz-vK8IesE&ab_channel=BeABetterDev) of the NoSQL world."
      ]
    },
    {
      "cell_type": "markdown",
      "metadata": {
        "id": "mVsUhMUIbB0-"
      },
      "source": [
        "## MongoDB\n",
        "MongoDB is the most used SQL alternative. As Mongo is the most universal and flexible NoSQL database. The biggest advantage of it is scalability. As the data is stored in documents and not in the individual tables, there is no need for joins, which can get quite expensive when working with huge tables full of records. Search is also more optimized in MongoDB. You should take a look into [official documentation](https://www.mongodb.com/nosql-explained) and watch [this](https://www.youtube.com/watch?v=EE8ZTQxa0AM&ab_channel=MongoDB) 5 min. video that covers all basic aspects of the database. You can also watch a [comparison](https://www.youtube.com/watch?v=ZS_kXvOeQ5Y&ab_channel=Academind) made between SQL and NoSQl when talking about MySQL vs MongoDB case."
      ]
    },
    {
      "cell_type": "markdown",
      "metadata": {
        "id": "G5J_iH7bbB0_"
      },
      "source": [
        "## Cassandra\n",
        "Cassandra is mostly used when working with time series data and key-value storage. Because of unique database structure Cassandra can perform queries instantly and return huge numbers of data in a matter of moment. You should read about Cassandra in [this TLDR](https://www.credera.com/insights/cassandra-explained-5-minutes-less/). You should also watch [this](https://www.youtube.com/watch?v=iDhIjrJ7hG0&ab_channel=edureka%21) video that explains Cassandra more in-depth."
      ]
    },
    {
      "cell_type": "markdown",
      "metadata": {
        "id": "S9xTd4l1bB0_"
      },
      "source": [
        "## Redis\n",
        "Redis is mostly used when talking about caching and quick data retrieval. Redis is also widely used in applications where some kind of live counting is needed (for example leaderboards). You should read [blog post](https://www.ibm.com/cloud/learn/redis) created by IBM and learn about most popular use cases and specific data types. [Here](https://www.youtube.com/watch?v=Hbt56gFj998&ab_channel=TraversyMedia) is also amazing video that covers most popular Redis use cases and provides practical approach to them."
      ]
    },
    {
      "cell_type": "markdown",
      "metadata": {
        "id": "Fo9EFbrfbB1A"
      },
      "source": [
        "## Exercise\n",
        "For this lesson you will have to transfer Tesla factory to hosted PostrgeSQL database. You will need to use Python `psycopg2` client for this task. As in the last lesson you had to provide screeshots with outputs, now you will need to provide python code. You have to create these tables:\n",
        "```\n",
        "| Models            |\n",
        "|-------------------|\n",
        "| Id serial         |\n",
        "| ModelName varchar |\n",
        "| Range int         |\n",
        "\n",
        "| Cars              |\n",
        "|-------------------|\n",
        "| Id serial         |\n",
        "| ModelId int       |\n",
        "| PlateNo varchar   |\n",
        "\n",
        "| Owners         |\n",
        "|----------------|\n",
        "| Id serial      |\n",
        "| FullName       |\n",
        "| PersonalId int |\n",
        "\n",
        "| OwnerCars   |\n",
        "|-------------|\n",
        "| CarId int   |\n",
        "| OwnerId int |\n",
        "\n",
        "```\n",
        "\n",
        "You will need to add 3 records to `Models` table, 10 records to `Owners` table and `15` records to `Cars table`. All cars should be assigned to an owner. One owner can have more than 1 car.\n",
        "\n",
        "1. Create new application on Heroku and add Postgres ad-on to it\n",
        "2. Initialize connection to the database and create required tables using `psycopg2`\n",
        "3. Write code to successfully run these queries:\n",
        "* List all `Models`\n",
        "* List all `Cars`\n",
        "* List all `Users`\n",
        "* Return count of grouped cars by model\n",
        "* Return count of grouped cars by owner\n",
        "* Return owner that owns most cars\n",
        "* Return average number of cars owners own\n",
        "* Return list of cars with owners `FullName` attached\n",
        "4. Put all your code to the python file. Do not forget to document your code."
      ]
    },
    {
      "cell_type": "code",
      "metadata": {
        "colab": {
          "base_uri": "https://localhost:8080/"
        },
        "id": "FZOVvQdsZ6Ho",
        "outputId": "8b196326-4d0c-408f-e03c-7063c1373504"
      },
      "source": [
        "conn = psycopg2.connect(\n",
        "    database=\"d954vjcs3noaot\",\n",
        "    user=\"gmhnwgkmbjfygj\",\n",
        "    password=\"d7c5293f8a6041f536297492e7a92ba77ebfc0d053852c19d67289904fd7d449\",\n",
        "    host=\"ec2-34-254-69-72.eu-west-1.compute.amazonaws.com\",\n",
        "    port=\"5432\"\n",
        ")\n",
        "\n",
        "conn"
      ],
      "execution_count": null,
      "outputs": [
        {
          "output_type": "execute_result",
          "data": {
            "text/plain": [
              "<connection object at 0x7fd7b63872d0; dsn: 'user=gmhnwgkmbjfygj password=xxx dbname=d954vjcs3noaot host=ec2-34-254-69-72.eu-west-1.compute.amazonaws.com port=5432', closed: 0>"
            ]
          },
          "metadata": {
            "tags": []
          },
          "execution_count": 73
        }
      ]
    },
    {
      "cell_type": "code",
      "metadata": {
        "id": "ufn99SwVZRV5"
      },
      "source": [
        "cur = conn.cursor()\n",
        "cur.execute('''\n",
        "CREATE TABLE models(\n",
        "    id serial PRIMARY KEY,\n",
        "    modelname varchar(100),\n",
        "    range int\n",
        "    );\n",
        "''')\n",
        "\n",
        "cur.execute('''\n",
        "CREATE TABLE cars (\n",
        "    id serial PRIMARY KEY,\n",
        "    modelid int,\n",
        "    plateno varchar(5)\n",
        ");\n",
        "''')\n",
        "cur.execute('''\n",
        "CREATE TABLE owners (\n",
        "    id serial PRIMARY KEY,\n",
        "    fullname varchar(100),\n",
        "    personalid int\n",
        ");\n",
        "''')\n",
        "cur.execute('''\n",
        "CREATE TABLE ownercars (\n",
        "    carid int,\n",
        "    ownerid int\n",
        ");\n",
        "''')\n",
        "\n",
        "cur.execute('''\n",
        "ALTER TABLE cars ADD FOREIGN KEY (modelid) REFERENCES models(id);\n",
        "ALTER TABLE ownercars ADD FOREIGN KEY (carid) REFERENCES cars(id);\n",
        "ALTER TABLE ownercars ADD FOREIGN KEY (ownerid) REFERENCES owners(id);\n",
        "''')\n",
        "\n",
        "cur.execute('''\n",
        "INSERT INTO models(id,modelname,range) VALUES(1,'Model S',70620);\n",
        "INSERT INTO models(id,modelname,range) VALUES(2,'Model X',52190);\n",
        "INSERT INTO models(id,modelname,range) VALUES(3,'Model Y',81190);\n",
        "''')\n",
        "\n",
        "cur.execute('''\n",
        "INSERT INTO cars(id,modelid,plateno) VALUES(1,1,'PLX');\n",
        "INSERT INTO cars(id,modelid,plateno) VALUES(2,1,'ZSY');\n",
        "INSERT INTO cars(id,modelid,plateno) VALUES(3,1,'YYQ');\n",
        "INSERT INTO cars(id,modelid,plateno) VALUES(4,1,'WQF');\n",
        "INSERT INTO cars(id,modelid,plateno) VALUES(5,1,'WWQ');\n",
        "INSERT INTO cars(id,modelid,plateno) VALUES(6,2,'ZZQ');\n",
        "INSERT INTO cars(id,modelid,plateno) VALUES(7,2,'YYQ');\n",
        "INSERT INTO cars(id,modelid,plateno) VALUES(8,2,'YZS');\n",
        "INSERT INTO cars(id,modelid,plateno) VALUES(9,2,'QQP');\n",
        "INSERT INTO cars(id,modelid,plateno) VALUES(10,2,'AAS');\n",
        "INSERT INTO cars(id,modelid,plateno) VALUES(11,3,'YWE');\n",
        "INSERT INTO cars(id,modelid,plateno) VALUES(12,3,'QWE');\n",
        "INSERT INTO cars(id,modelid,plateno) VALUES(13,3,'UUI');\n",
        "INSERT INTO cars(id,modelid,plateno) VALUES(14,3,'ITU');\n",
        "INSERT INTO cars(id,modelid,plateno) VALUES(15,3,'ITK');\n",
        "''')\n",
        "cur.execute('''\n",
        "INSERT INTO owners(id,fullname,personalid) VALUES(1,'Linus Mbah',11);\n",
        "INSERT INTO owners(id,fullname,personalid) VALUES(2,'Bezos Via',12);\n",
        "INSERT INTO owners(id,fullname,personalid) VALUES(3,'Lii Vio',13);\n",
        "INSERT INTO owners(id,fullname,personalid) VALUES(4,'Kion Onu',14);\n",
        "INSERT INTO owners(id,fullname,personalid) VALUES(5,'Kia Wiz',15);\n",
        "INSERT INTO owners(id,fullname,personalid) VALUES(6,'Jiu Mbu',16);\n",
        "INSERT INTO owners(id,fullname,personalid) VALUES(7,'Sien Jion',17);\n",
        "INSERT INTO owners(id,fullname,personalid) VALUES(8,'Paulo Wiz',18);\n",
        "INSERT INTO owners(id,fullname,personalid) VALUES(9,'Mbuzo Milk',19);\n",
        "INSERT INTO owners(id,fullname,personalid) VALUES(10,'Jane Smith',20);\n",
        "''')\n",
        "\n",
        "cur.execute('''\n",
        "INSERT INTO ownercars(carid,ownerid) VALUES(1,1);\n",
        "INSERT INTO ownercars(carid,ownerid) VALUES(2,1);\n",
        "INSERT INTO ownercars(carid,ownerid) VALUES(3,1);\n",
        "INSERT INTO ownercars(carid,ownerid) VALUES(4,2);\n",
        "INSERT INTO ownercars(carid,ownerid) VALUES(5,2);\n",
        "INSERT INTO ownercars(carid,ownerid) VALUES(6,3);\n",
        "INSERT INTO ownercars(carid,ownerid) VALUES(7,3);\n",
        "INSERT INTO ownercars(carid,ownerid) VALUES(8,4);\n",
        "INSERT INTO ownercars(carid,ownerid) VALUES(9,5);\n",
        "INSERT INTO ownercars(carid,ownerid) VALUES(10,6);\n",
        "INSERT INTO ownercars(carid,ownerid) VALUES(11,7);\n",
        "INSERT INTO ownercars(carid,ownerid) VALUES(12,8);\n",
        "INSERT INTO ownercars(carid,ownerid) VALUES(13,9);\n",
        "INSERT INTO ownercars(carid,ownerid) VALUES(14,10);\n",
        "INSERT INTO ownercars(carid,ownerid) VALUES(15,10);\n",
        "''')\n",
        "\n",
        "connection.commit()"
      ],
      "execution_count": null,
      "outputs": []
    },
    {
      "cell_type": "code",
      "metadata": {
        "id": "41kH_R1YiYKF"
      },
      "source": [
        "cur.execute(\"SELECT * FROM models;\")\n",
        "models = cur.fetchall()"
      ],
      "execution_count": null,
      "outputs": []
    },
    {
      "cell_type": "code",
      "metadata": {
        "colab": {
          "base_uri": "https://localhost:8080/"
        },
        "id": "lTZ0kdDSihHv",
        "outputId": "7422a39b-1ace-4b7c-9980-8a150c2a88d5"
      },
      "source": [
        "models"
      ],
      "execution_count": null,
      "outputs": [
        {
          "output_type": "execute_result",
          "data": {
            "text/plain": [
              "[(1, 'Model S', 70620), (2, 'Model X', 52190), (3, 'Model Y', 81190)]"
            ]
          },
          "metadata": {
            "tags": []
          },
          "execution_count": 34
        }
      ]
    },
    {
      "cell_type": "code",
      "metadata": {
        "id": "NxWat4K6irOB"
      },
      "source": [
        "assert len(models) == 3"
      ],
      "execution_count": null,
      "outputs": []
    },
    {
      "cell_type": "code",
      "metadata": {
        "id": "8b2mSmU0iv_S"
      },
      "source": [
        "cur.execute(\"SELECT * FROM cars;\")\n",
        "cars = cur.fetchall()"
      ],
      "execution_count": null,
      "outputs": []
    },
    {
      "cell_type": "code",
      "metadata": {
        "colab": {
          "base_uri": "https://localhost:8080/"
        },
        "id": "BemxRa0ai1yK",
        "outputId": "275d122b-30f9-45eb-e9d8-5e42456ef78b"
      },
      "source": [
        "for i in cars:\n",
        "   print(f\"id: {i[0]}, Modelid: {i[1]}, plateno: {i[2]}\")"
      ],
      "execution_count": null,
      "outputs": [
        {
          "output_type": "stream",
          "text": [
            "id: 1, Modelid: 1, plateno: PLX\n",
            "id: 2, Modelid: 1, plateno: ZSY\n",
            "id: 3, Modelid: 1, plateno: YYQ\n",
            "id: 4, Modelid: 1, plateno: WQF\n",
            "id: 5, Modelid: 1, plateno: WWQ\n",
            "id: 6, Modelid: 2, plateno: ZZQ\n",
            "id: 7, Modelid: 2, plateno: YYQ\n",
            "id: 8, Modelid: 2, plateno: YZS\n",
            "id: 9, Modelid: 2, plateno: QQP\n",
            "id: 10, Modelid: 2, plateno: AAS\n",
            "id: 11, Modelid: 3, plateno: YWE\n",
            "id: 12, Modelid: 3, plateno: QWE\n",
            "id: 13, Modelid: 3, plateno: UUI\n",
            "id: 14, Modelid: 3, plateno: ITU\n",
            "id: 15, Modelid: 3, plateno: ITK\n"
          ],
          "name": "stdout"
        }
      ]
    },
    {
      "cell_type": "code",
      "metadata": {
        "id": "7zW_FSEejX9m"
      },
      "source": [
        "cur.execute(\"SELECT * FROM owners;\")\n",
        "owners = cur.fetchall()"
      ],
      "execution_count": null,
      "outputs": []
    },
    {
      "cell_type": "code",
      "metadata": {
        "colab": {
          "base_uri": "https://localhost:8080/"
        },
        "id": "ODgZ6hTljgXt",
        "outputId": "87bd6bfc-b826-4d4d-c98f-ff467c0ef329"
      },
      "source": [
        "for i in owners:\n",
        "   print(f\"id: {i[0]}, fullname: {i[1]}, personalid: {i[2]}\")"
      ],
      "execution_count": null,
      "outputs": [
        {
          "output_type": "stream",
          "text": [
            "id: 1, fullname: Linus Mbah, personalid: 11\n",
            "id: 2, fullname: Bezos Via, personalid: 12\n",
            "id: 3, fullname: Lii Vio, personalid: 13\n",
            "id: 4, fullname: Kion Onu, personalid: 14\n",
            "id: 5, fullname: Kia Wiz, personalid: 15\n",
            "id: 6, fullname: Jiu Mbu, personalid: 16\n",
            "id: 7, fullname: Sien Jion, personalid: 17\n",
            "id: 8, fullname: Paulo Wiz, personalid: 18\n",
            "id: 9, fullname: Mbuzo Milk, personalid: 19\n",
            "id: 10, fullname: Jane Smith, personalid: 20\n"
          ],
          "name": "stdout"
        }
      ]
    },
    {
      "cell_type": "markdown",
      "metadata": {
        "id": "Np6L8ZuHbB1A"
      },
      "source": [
        "---"
      ]
    },
    {
      "cell_type": "code",
      "metadata": {
        "id": "IDzSYg61jwQl"
      },
      "source": [
        "cur.execute(\"SELECT count(*) FROM cars GROUP BY modelid\")\n",
        "group1 = cur.fetchall()"
      ],
      "execution_count": null,
      "outputs": []
    },
    {
      "cell_type": "code",
      "metadata": {
        "colab": {
          "base_uri": "https://localhost:8080/"
        },
        "id": "6iy37XqCkxpd",
        "outputId": "fa6180ac-f3de-4ed0-d718-9643e44dc580"
      },
      "source": [
        "group1"
      ],
      "execution_count": null,
      "outputs": [
        {
          "output_type": "execute_result",
          "data": {
            "text/plain": [
              "[(5,), (5,), (5,)]"
            ]
          },
          "metadata": {
            "tags": []
          },
          "execution_count": 53
        }
      ]
    },
    {
      "cell_type": "code",
      "metadata": {
        "id": "odYKU0sQlO9p"
      },
      "source": [
        "cur.execute(\"SELECT count(*) FROM ownercars GROUP BY ownerid\")\n",
        "group2 = cur.fetchall()"
      ],
      "execution_count": null,
      "outputs": []
    },
    {
      "cell_type": "code",
      "metadata": {
        "colab": {
          "base_uri": "https://localhost:8080/"
        },
        "id": "iVFv4IXKlaP7",
        "outputId": "6bf4f709-88e9-4ee4-da6a-a4c884bf2e10"
      },
      "source": [
        "group2"
      ],
      "execution_count": null,
      "outputs": [
        {
          "output_type": "execute_result",
          "data": {
            "text/plain": [
              "[(1,), (2,), (1,), (1,), (2,), (1,), (2,), (1,), (3,), (1,)]"
            ]
          },
          "metadata": {
            "tags": []
          },
          "execution_count": 55
        }
      ]
    },
    {
      "cell_type": "code",
      "metadata": {
        "id": "YD_GMz7klh6Q"
      },
      "source": [
        "cur.execute(\"SELECT count(*) FROM owners JOIN ownercars ON owners.id = ownercars.ownerid GROUP BY ownerid\")\n",
        "group3 = cur.fetchall()"
      ],
      "execution_count": null,
      "outputs": []
    },
    {
      "cell_type": "code",
      "metadata": {
        "colab": {
          "base_uri": "https://localhost:8080/"
        },
        "id": "6x6adnfImPg2",
        "outputId": "a3c050d6-a5e8-4800-d7f5-26d2aab31b60"
      },
      "source": [
        "group3"
      ],
      "execution_count": null,
      "outputs": [
        {
          "output_type": "execute_result",
          "data": {
            "text/plain": [
              "[(1,), (2,), (1,), (1,), (2,), (1,), (2,), (1,), (3,), (1,)]"
            ]
          },
          "metadata": {
            "tags": []
          },
          "execution_count": 57
        }
      ]
    },
    {
      "cell_type": "code",
      "metadata": {
        "id": "JnvQWaiImXIs"
      },
      "source": [
        "cur.execute(\"SELECT count(ownerid),ownercars.ownerid,owners.fullname FROM owners JOIN ownercars ON owners.id = ownercars.ownerid GROUP BY ownercars.ownerid,owners.fullname\")\n",
        "group4 = cur.fetchall()"
      ],
      "execution_count": null,
      "outputs": []
    },
    {
      "cell_type": "code",
      "metadata": {
        "colab": {
          "base_uri": "https://localhost:8080/"
        },
        "id": "qbnNhrpBnQmH",
        "outputId": "5583a775-e426-426f-e3eb-b8779e2681da"
      },
      "source": [
        "group4"
      ],
      "execution_count": null,
      "outputs": [
        {
          "output_type": "execute_result",
          "data": {
            "text/plain": [
              "[(1, 5, 'Kia Wiz'),\n",
              " (2, 10, 'Jane Smith'),\n",
              " (3, 1, 'Linus Mbah'),\n",
              " (1, 6, 'Jiu Mbu'),\n",
              " (1, 7, 'Sien Jion'),\n",
              " (2, 3, 'Lii Vio'),\n",
              " (1, 8, 'Paulo Wiz'),\n",
              " (1, 9, 'Mbuzo Milk'),\n",
              " (1, 4, 'Kion Onu'),\n",
              " (2, 2, 'Bezos Via')]"
            ]
          },
          "metadata": {
            "tags": []
          },
          "execution_count": 79
        }
      ]
    },
    {
      "cell_type": "code",
      "metadata": {
        "colab": {
          "base_uri": "https://localhost:8080/"
        },
        "id": "4-fRQp-Nns9D",
        "outputId": "1a71bfab-f9c3-4e0a-b99b-1d0fd2d77bb7"
      },
      "source": [
        "for j in group4:\n",
        "  v=j.count(j[0])\n",
        "  print(v)"
      ],
      "execution_count": null,
      "outputs": [
        {
          "output_type": "stream",
          "text": [
            "1\n",
            "1\n",
            "1\n",
            "1\n",
            "1\n",
            "1\n",
            "1\n",
            "1\n",
            "1\n",
            "2\n"
          ],
          "name": "stdout"
        }
      ]
    },
    {
      "cell_type": "markdown",
      "metadata": {
        "id": "HNUgjrNDbB1A"
      },
      "source": [
        "## Summary\n",
        "Now you know how to create your own database using Heroku and PostgreSQL. From this point, you will be able to store your data in external resources. This skill will let you create more functional and powerful applications. Most importantly, now you should understand how relational databases work in practice. For a future data scientist these skills are really valuable."
      ]
    },
    {
      "cell_type": "markdown",
      "metadata": {
        "id": "wVR1dbcybB1B"
      },
      "source": [
        "---"
      ]
    },
    {
      "cell_type": "code",
      "metadata": {
        "id": "RMNeXohmbB1B"
      },
      "source": [
        ""
      ],
      "execution_count": null,
      "outputs": []
    }
  ]
}